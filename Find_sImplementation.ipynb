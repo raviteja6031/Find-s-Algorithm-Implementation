{
  "nbformat": 4,
  "nbformat_minor": 0,
  "metadata": {
    "colab": {
      "name": "Find-sImplementation.ipynb",
      "provenance": [],
      "collapsed_sections": [],
      "authorship_tag": "ABX9TyMjZWBacgt+gpvWbX0Ywp4B",
      "include_colab_link": true
    },
    "kernelspec": {
      "name": "python3",
      "display_name": "Python 3"
    }
  },
  "cells": [
    {
      "cell_type": "markdown",
      "metadata": {
        "id": "view-in-github",
        "colab_type": "text"
      },
      "source": [
        "<a href=\"https://colab.research.google.com/github/raviteja6031/Find-s-Algorithm-Implementation/blob/master/Find_sImplementation.ipynb\" target=\"_parent\"><img src=\"https://colab.research.google.com/assets/colab-badge.svg\" alt=\"Open In Colab\"/></a>"
      ]
    },
    {
      "cell_type": "code",
      "metadata": {
        "id": "YPfH86B8FqJ1",
        "colab_type": "code",
        "colab": {}
      },
      "source": [
        "import pandas as pd \n",
        "df=pd.read_csv('https://raw.githubusercontent.com/raviteja6031/Find-s-Algorithm-Implementation/master/data11_sports6.csv')\n",
        "dataset = df.values.tolist()"
      ],
      "execution_count": 3,
      "outputs": []
    },
    {
      "cell_type": "code",
      "metadata": {
        "id": "qOQzeFLgvEL1",
        "colab_type": "code",
        "colab": {
          "base_uri": "https://localhost:8080/",
          "height": 101
        },
        "outputId": "8f2aef4c-5523-4cd1-8d04-48ae24e33967"
      },
      "source": [
        "print(df)"
      ],
      "execution_count": 6,
      "outputs": [
        {
          "output_type": "stream",
          "text": [
            "     Sky AirTemp Humidity    Wind Water Forecast  EnjoySport\n",
            "0  sunny    warm   normal  strong  warm     same           1\n",
            "1  sunny    warm     high  strong  warm     same           1\n",
            "2  rainy    cold     high  strong  warm   change           0\n",
            "3  sunny    warm     high  strong  cool   change           1\n"
          ],
          "name": "stdout"
        }
      ]
    },
    {
      "cell_type": "code",
      "metadata": {
        "id": "2aZHCEtTFxYA",
        "colab_type": "code",
        "colab": {
          "base_uri": "https://localhost:8080/",
          "height": 84
        },
        "outputId": "df2b9309-699e-4e39-b535-f8970deec859"
      },
      "source": [
        "flag = 0\n",
        "h=[];\n",
        "for x in range(len(dataset)):\n",
        "    t=dataset[x]              # Get an instance from the dataset\n",
        "    if t[-1]==1 and flag==0:  # Initialize h with first +ve sample\n",
        "      flag=1\n",
        "      h = dataset[x]\n",
        "    elif t[-1]==1:            # Update h with remaining +ve samples\t\n",
        "      for y in range(len(t)):\n",
        "        if h[y]!=t[y]:\n",
        "            h[y]='?'\n",
        "    print(\"Training instance {0} the hypothesis is : \".format(x+1),end=' ')\n",
        "    print(h[0:-1])"
      ],
      "execution_count": 7,
      "outputs": [
        {
          "output_type": "stream",
          "text": [
            "Training instance 1 the hypothesis is :  ['sunny', 'warm', '?', 'strong', '?', '?']\n",
            "Training instance 2 the hypothesis is :  ['sunny', 'warm', '?', 'strong', '?', '?']\n",
            "Training instance 3 the hypothesis is :  ['sunny', 'warm', '?', 'strong', '?', '?']\n",
            "Training instance 4 the hypothesis is :  ['sunny', 'warm', '?', 'strong', '?', '?']\n"
          ],
          "name": "stdout"
        }
      ]
    },
    {
      "cell_type": "code",
      "metadata": {
        "id": "UNJsOaeXF3Ga",
        "colab_type": "code",
        "colab": {
          "base_uri": "https://localhost:8080/",
          "height": 50
        },
        "outputId": "4614abb4-1e9c-4254-e8bd-15e26366c427"
      },
      "source": [
        "print(\"The maximally specific hypothesis for a given training examples\")        \n",
        "print(h[:-1])"
      ],
      "execution_count": 8,
      "outputs": [
        {
          "output_type": "stream",
          "text": [
            "The maximally specific hypothesis for a given training examples\n",
            "['sunny', 'warm', '?', 'strong', '?', '?']\n"
          ],
          "name": "stdout"
        }
      ]
    }
  ]
}