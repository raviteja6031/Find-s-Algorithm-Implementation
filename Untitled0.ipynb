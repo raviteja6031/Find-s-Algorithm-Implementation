{
  "nbformat": 4,
  "nbformat_minor": 0,
  "metadata": {
    "colab": {
      "name": "Untitled0.ipynb",
      "provenance": [],
      "authorship_tag": "ABX9TyPHdaHTaGdpN7KSeToYGocg",
      "include_colab_link": true
    },
    "kernelspec": {
      "name": "python3",
      "display_name": "Python 3"
    }
  },
  "cells": [
    {
      "cell_type": "markdown",
      "metadata": {
        "id": "view-in-github",
        "colab_type": "text"
      },
      "source": [
        "<a href=\"https://colab.research.google.com/github/raviteja6031/Find-s-Algorithm-Implementation/blob/master/Untitled0.ipynb\" target=\"_parent\"><img src=\"https://colab.research.google.com/assets/colab-badge.svg\" alt=\"Open In Colab\"/></a>"
      ]
    },
    {
      "cell_type": "code",
      "metadata": {
        "id": "YPfH86B8FqJ1",
        "colab_type": "code",
        "colab": {
          "base_uri": "https://localhost:8080/",
          "height": 128
        },
        "outputId": "883a4f50-0168-42bd-e823-bd03d6300256"
      },
      "source": [
        "import pandas as pd \n",
        "df=pd.read_csv('')\n",
        "dataset = df.values.tolist()"
      ],
      "execution_count": null,
      "outputs": [
        {
          "output_type": "error",
          "ename": "SyntaxError",
          "evalue": "ignored",
          "traceback": [
            "\u001b[0;36m  File \u001b[0;32m\"<ipython-input-1-9a2d688ac47e>\"\u001b[0;36m, line \u001b[0;32m2\u001b[0m\n\u001b[0;31m    df=pd.read_csv('C:\\Users\\RAVITEJA\\Desktop\\Find-S-Implementation-master\\data11_sports6')\u001b[0m\n\u001b[0m                  ^\u001b[0m\n\u001b[0;31mSyntaxError\u001b[0m\u001b[0;31m:\u001b[0m (unicode error) 'unicodeescape' codec can't decode bytes in position 2-3: truncated \\UXXXXXXXX escape\n"
          ]
        }
      ]
    },
    {
      "cell_type": "code",
      "metadata": {
        "id": "2aZHCEtTFxYA",
        "colab_type": "code",
        "colab": {
          "base_uri": "https://localhost:8080/",
          "height": 84
        },
        "outputId": "75f25b6a-4138-43dd-ea09-ad43394e1278"
      },
      "source": [
        "flag = 0\n",
        "h=[];\n",
        "for x in range(len(dataset)):\n",
        "    t=dataset[x]              # Get an instance from the dataset\n",
        "    if t[-1]==1 and flag==0:  # Initialize h with first +ve sample\n",
        "      flag=1\n",
        "      h = dataset[x]\n",
        "    elif t[-1]==1:            # Update h with remaining +ve samples\t\n",
        "      for y in range(len(t)):\n",
        "        if h[y]!=t[y]:\n",
        "            h[y]='?'\n",
        "    print(\"Training instance {0} the hypothesis is : \".format(x+1),end=' ')\n",
        "    print(h[0:-1])"
      ],
      "execution_count": null,
      "outputs": [
        {
          "output_type": "stream",
          "text": [
            "Training instance 1 the hypothesis is :  ['sunny', 'warm', 'normal', 'strong', 'warm', 'same']\n",
            "Training instance 2 the hypothesis is :  ['sunny', 'warm', '?', 'strong', 'warm', 'same']\n",
            "Training instance 3 the hypothesis is :  ['sunny', 'warm', '?', 'strong', 'warm', 'same']\n",
            "Training instance 4 the hypothesis is :  ['sunny', 'warm', '?', 'strong', '?', '?']\n"
          ],
          "name": "stdout"
        }
      ]
    },
    {
      "cell_type": "code",
      "metadata": {
        "id": "UNJsOaeXF3Ga",
        "colab_type": "code",
        "colab": {
          "base_uri": "https://localhost:8080/",
          "height": 50
        },
        "outputId": "b7a30717-1a39-442f-80e1-7a6bd4fc1621"
      },
      "source": [
        "print(\"The maximally specific hypothesis for a given training examples\")        \n",
        "print(h[:-1])"
      ],
      "execution_count": null,
      "outputs": [
        {
          "output_type": "stream",
          "text": [
            "The maximally specific hypothesis for a given training examples\n",
            "['sunny', 'warm', '?', 'strong', '?', '?']\n"
          ],
          "name": "stdout"
        }
      ]
    }
  ]
}